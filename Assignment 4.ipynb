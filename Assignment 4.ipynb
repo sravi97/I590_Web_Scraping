{
 "cells": [
  {
   "cell_type": "markdown",
   "metadata": {},
   "source": [
    "### Assignment 04"
   ]
  },
  {
   "cell_type": "markdown",
   "metadata": {},
   "source": [
    "#### Problem Statement\n"
   ]
  },
  {
   "cell_type": "markdown",
   "metadata": {},
   "source": [
    "As a class project, we will write a client program which will extract tweets with the hash-tag '#happy'. This client will handle rate-limit errors and collect as many tweets as possible in a given time.\n",
    "\n",
    "The tweets collected would be stored as a CSV file \"tweets.csv\" with the following contents: id, lang, user.screen_name, text."
   ]
  },
  {
   "cell_type": "code",
   "execution_count": 25,
   "metadata": {},
   "outputs": [
    {
     "name": "stdout",
     "output_type": "stream",
     "text": [
      "Write to file successful!\n"
     ]
    }
   ],
   "source": [
    "import csv\n",
    "import tweepy\n",
    "\n",
    "# Helper functions\n",
    "# implement the ratelimiting function\n",
    "def limit_handled(cursor):\n",
    "    # fill in your code\n",
    "    while True:\n",
    "        try:\n",
    "            yield cursor.next()\n",
    "        except tweepy.RateLimitError:\n",
    "            time.sleep(15*60)\n",
    "# ------------------------------------------------------------------------\n",
    "# Main Program\n",
    "# ------------------------------------------------------------------------\n",
    "\n",
    "\n",
    "# paste you consumer keys and access tokens here\n",
    "consumer_key = \"GSxa0bBjqhumdu3Jq6kWuxF9S\"\n",
    "consumer_secret = \"vfGgCX1YMUJLY1ziCHZ5lpczJv9nBCgXEdzhNroyCrZg3lmg50\"\n",
    "access_token = \"1678521936-mj1GWtvyocwqnjvUfxteR3nuvvMRfJRIs3Clq8b\"\n",
    "access_token_secret = \"ImdXXT5NzZxH9JEvt4JeVcYeTRLNYsGAL2NCWz7ALQMw4\"\n",
    "\n",
    "# create api object after proper authentication\n",
    "auth = tweepy.OAuthHandler(consumer_key, consumer_secret)\n",
    "auth.set_access_token(access_token, access_token_secret)\n",
    "\n",
    "api = tweepy.API(auth)\n",
    "\n",
    "search_tag = '#happy' \n",
    "fname = 'tweets.csv' \n",
    "\n",
    "# creating a search cursor\n",
    "search_cursor = tweepy.Cursor(api.user_timeline).items(40)\n",
    "# for tweet in search_cursor:\n",
    "#     print(tweet.lang)\n",
    "\n",
    "\n",
    "with open(fname, 'w') as f:\n",
    "    # defining the field names\n",
    "    field_names = ['ID', 'Language', 'Screen Name', 'Text']\n",
    "    \n",
    "    # fill in your code\n",
    "    op_writer = csv.DictWriter(f, fieldnames=field_names)\n",
    "    op_writer.writeheader()\n",
    "    for tweet in search_cursor:\n",
    "        op_writer.writerow({\"ID\": tweet.id, \"Language\": tweet.lang, \"Screen Name\": tweet.user.screen_name, \"Text\": tweet.text.encode('utf-8')})\n",
    "    \n",
    "    print(\"Write to file successful!\")\n",
    "    \n",
    "    # fields to be stored in CSV file\n",
    "    # tweet.id,\n",
    "    # tweet.lang,\n",
    "    # tweet.user.screen_name,\n",
    "    # tweet.text.encode('utf-8')"
   ]
  }
 ],
 "metadata": {
  "kernelspec": {
   "display_name": "Python 3",
   "language": "python",
   "name": "python3"
  },
  "language_info": {
   "codemirror_mode": {
    "name": "ipython",
    "version": 3
   },
   "file_extension": ".py",
   "mimetype": "text/x-python",
   "name": "python",
   "nbconvert_exporter": "python",
   "pygments_lexer": "ipython3",
   "version": "3.8.3"
  }
 },
 "nbformat": 4,
 "nbformat_minor": 4
}
